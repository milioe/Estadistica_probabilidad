{
 "cells": [
  {
   "cell_type": "code",
   "execution_count": 4,
   "metadata": {},
   "outputs": [],
   "source": [
    "import pandas as pd\n",
    "import tensorflow as tf"
   ]
  },
  {
   "cell_type": "code",
   "execution_count": 5,
   "metadata": {},
   "outputs": [],
   "source": [
    "url = \"https://raw.githubusercontent.com/milioe/Estadistica_probabilidad/master/dfinal.csv\""
   ]
  },
  {
   "cell_type": "code",
   "execution_count": 6,
   "metadata": {},
   "outputs": [],
   "source": [
    "df = pd.read_csv(url)"
   ]
  },
  {
   "cell_type": "code",
   "execution_count": 7,
   "metadata": {},
   "outputs": [
    {
     "name": "stdout",
     "output_type": "stream",
     "text": [
      "     edad  sexo  estudio  trabajo  ingresos  target\n",
      "0    16.0     1        1        0         1       0\n",
      "1    20.0     0        1        1         3       1\n",
      "2    20.0     0        1        1         3       0\n",
      "3    19.0     0        1        0         1       0\n",
      "4    17.0     1        1        0         0       0\n",
      "..    ...   ...      ...      ...       ...     ...\n",
      "102  31.0     1        0        1         4       0\n",
      "103  35.0     0        1        1         0       0\n",
      "104  19.0     1        0        1         2       0\n",
      "105  59.0     1        1        1         4       0\n",
      "106  69.0     0        0        1         4       0\n",
      "\n",
      "[107 rows x 6 columns]\n"
     ]
    }
   ],
   "source": [
    "print(df)"
   ]
  },
  {
   "cell_type": "code",
   "execution_count": 8,
   "metadata": {},
   "outputs": [
    {
     "data": {
      "text/plain": [
       "edad        float64\n",
       "sexo          int64\n",
       "estudio       int64\n",
       "trabajo       int64\n",
       "ingresos      int64\n",
       "target        int64\n",
       "dtype: object"
      ]
     },
     "execution_count": 8,
     "metadata": {},
     "output_type": "execute_result"
    }
   ],
   "source": [
    "df.dtypes"
   ]
  },
  {
   "cell_type": "code",
   "execution_count": 9,
   "metadata": {},
   "outputs": [],
   "source": [
    "target = df.pop('target')"
   ]
  },
  {
   "cell_type": "code",
   "execution_count": 10,
   "metadata": {},
   "outputs": [],
   "source": [
    "dataset = tf.data.Dataset.from_tensor_slices((df.values, target.values))"
   ]
  },
  {
   "cell_type": "code",
   "execution_count": 11,
   "metadata": {},
   "outputs": [
    {
     "name": "stdout",
     "output_type": "stream",
     "text": [
      "Features: [16.  1.  1.  0.  1.], Target: 0\n",
      "Features: [20.  0.  1.  1.  3.], Target: 1\n",
      "Features: [20.  0.  1.  1.  3.], Target: 0\n",
      "Features: [19.  0.  1.  0.  1.], Target: 0\n",
      "Features: [17.  1.  1.  0.  0.], Target: 0\n"
     ]
    }
   ],
   "source": [
    "for feat, targ in dataset.take(5):\n",
    "  print ('Features: {}, Target: {}'.format(feat, targ))"
   ]
  },
  {
   "cell_type": "code",
   "execution_count": 12,
   "metadata": {},
   "outputs": [
    {
     "data": {
      "text/plain": [
       "<tf.Tensor: id=21, shape=(107,), dtype=int32, numpy=\n",
       "array([1, 0, 0, 0, 1, 1, 1, 1, 0, 1, 0, 0, 1, 1, 1, 1, 1, 1, 1, 0, 0, 0,\n",
       "       0, 0, 1, 0, 0, 1, 0, 1, 0, 0, 0, 0, 1, 0, 0, 1, 1, 1, 1, 1, 1, 0,\n",
       "       0, 0, 0, 0, 1, 0, 1, 0, 1, 0, 0, 0, 0, 0, 0, 0, 1, 1, 0, 1, 0, 0,\n",
       "       1, 0, 1, 0, 0, 1, 1, 1, 1, 1, 1, 1, 1, 1, 1, 0, 0, 1, 0, 0, 0, 1,\n",
       "       1, 1, 0, 1, 0, 1, 0, 0, 0, 1, 0, 0, 1, 0, 1, 0, 1, 1, 0],\n",
       "      dtype=int32)>"
      ]
     },
     "execution_count": 12,
     "metadata": {},
     "output_type": "execute_result"
    }
   ],
   "source": [
    "tf.constant(df['sexo'])"
   ]
  },
  {
   "cell_type": "code",
   "execution_count": 13,
   "metadata": {},
   "outputs": [],
   "source": [
    "train_dataset = dataset.shuffle(len(df)).batch(1)"
   ]
  },
  {
   "cell_type": "code",
   "execution_count": 14,
   "metadata": {},
   "outputs": [],
   "source": [
    "def get_compiled_model():\n",
    "  model = tf.keras.Sequential([\n",
    "    tf.keras.layers.Dense(10, activation='relu'),\n",
    "    tf.keras.layers.Dense(10, activation='relu'),\n",
    "    tf.keras.layers.Dense(1)\n",
    "  ])\n",
    "\n",
    "  model.compile(optimizer='adam',\n",
    "                loss=tf.keras.losses.BinaryCrossentropy(from_logits=True),\n",
    "                metrics=['accuracy'])\n",
    "  return model"
   ]
  },
  {
   "cell_type": "code",
   "execution_count": 15,
   "metadata": {},
   "outputs": [
    {
     "name": "stdout",
     "output_type": "stream",
     "text": [
      "WARNING:tensorflow:Layer sequential is casting an input tensor from dtype float64 to the layer's dtype of float32, which is new behavior in TensorFlow 2.  The layer has dtype float32 because it's dtype defaults to floatx.\n",
      "\n",
      "If you intended to run this layer in float32, you can safely ignore this warning. If in doubt, this warning is likely only an issue if you are porting a TensorFlow 1.X model to TensorFlow 2.\n",
      "\n",
      "To change all layers to have dtype float64 by default, call `tf.keras.backend.set_floatx('float64')`. To change just this layer, pass dtype='float64' to the layer constructor. If you are the author of this layer, you can disable autocasting by passing autocast=False to the base Layer constructor.\n",
      "\n",
      "Epoch 1/15\n",
      "107/107 [==============================] - 3s 29ms/step - loss: nan - accuracy: 0.7477\n",
      "Epoch 2/15\n",
      "107/107 [==============================] - 0s 3ms/step - loss: nan - accuracy: 0.8598\n",
      "Epoch 3/15\n",
      "107/107 [==============================] - 0s 3ms/step - loss: nan - accuracy: 0.8598\n",
      "Epoch 4/15\n",
      "107/107 [==============================] - 0s 4ms/step - loss: nan - accuracy: 0.8598\n",
      "Epoch 5/15\n",
      "107/107 [==============================] - 0s 3ms/step - loss: nan - accuracy: 0.8598\n",
      "Epoch 6/15\n",
      "107/107 [==============================] - 0s 4ms/step - loss: nan - accuracy: 0.8598A: 0s - loss: nan - accuracy: 0\n",
      "Epoch 7/15\n",
      "107/107 [==============================] - 0s 4ms/step - loss: nan - accuracy: 0.8598\n",
      "Epoch 8/15\n",
      "107/107 [==============================] - 0s 3ms/step - loss: nan - accuracy: 0.8598\n",
      "Epoch 9/15\n",
      "107/107 [==============================] - 0s 3ms/step - loss: nan - accuracy: 0.8598\n",
      "Epoch 10/15\n",
      "107/107 [==============================] - 0s 3ms/step - loss: nan - accuracy: 0.8598\n",
      "Epoch 11/15\n",
      "107/107 [==============================] - 0s 3ms/step - loss: nan - accuracy: 0.8598\n",
      "Epoch 12/15\n",
      "107/107 [==============================] - 0s 3ms/step - loss: nan - accuracy: 0.8598\n",
      "Epoch 13/15\n",
      "107/107 [==============================] - 0s 3ms/step - loss: nan - accuracy: 0.8598\n",
      "Epoch 14/15\n",
      "107/107 [==============================] - 0s 3ms/step - loss: nan - accuracy: 0.8598\n",
      "Epoch 15/15\n",
      "107/107 [==============================] - 0s 3ms/step - loss: nan - accuracy: 0.8598\n"
     ]
    },
    {
     "data": {
      "text/plain": [
       "<tensorflow.python.keras.callbacks.History at 0x649604490>"
      ]
     },
     "execution_count": 15,
     "metadata": {},
     "output_type": "execute_result"
    }
   ],
   "source": [
    "model = get_compiled_model()\n",
    "model.fit(train_dataset, epochs=15)"
   ]
  },
  {
   "cell_type": "code",
   "execution_count": null,
   "metadata": {},
   "outputs": [],
   "source": []
  }
 ],
 "metadata": {
  "kernelspec": {
   "display_name": "Python 3",
   "language": "python",
   "name": "python3"
  }
 },
 "nbformat": 4,
 "nbformat_minor": 4
}
