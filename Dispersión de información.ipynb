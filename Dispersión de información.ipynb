{
 "cells": [
  {
   "cell_type": "markdown",
   "metadata": {},
   "source": [
    "# Dispersión de información"
   ]
  },
  {
   "cell_type": "markdown",
   "metadata": {},
   "source": [
    "## Estadística y Probabilidad, FE, UNAM"
   ]
  },
  {
   "cell_type": "markdown",
   "metadata": {},
   "source": [
    "### Emilio S. Palomino"
   ]
  },
  {
   "cell_type": "markdown",
   "metadata": {},
   "source": [
    "Este algoritmo sirve para la generación de apellidos aleatorios que se han regstrado a octubre de 2017 en México, y sirve para la investigación de \"Dispersión de información\" de la teoria de \"The law of the Few\" de Malcolm Gladwell"
   ]
  },
  {
   "cell_type": "code",
   "execution_count": 1,
   "metadata": {},
   "outputs": [],
   "source": [
    "#Importación de modulos\n",
    "import pandas as pd\n",
    "from random import randint, uniform,random\n",
    "from openpyxl.workbook import Workbook\n",
    "import random\n",
    "import sys"
   ]
  },
  {
   "cell_type": "code",
   "execution_count": null,
   "metadata": {},
   "outputs": [],
   "source": [
    "#Filtro para datos que no son legibles\n",
    "reload(sys)\n",
    "sys.setdefaultencoding('utf8')"
   ]
  },
  {
   "cell_type": "code",
   "execution_count": null,
   "metadata": {},
   "outputs": [],
   "source": [
    "#URL de Github donde se encuentran los datos ya limpios\n",
    "url = 'https://raw.githubusercontent.com/milioe/Estadistica_probabilidad/master/apellidos.csv'"
   ]
  },
  {
   "cell_type": "code",
   "execution_count": null,
   "metadata": {},
   "outputs": [],
   "source": [
    "#Creación de Data Frame\n",
    "df = pd.read_csv(url,encoding='latin-1', dtype={\"apellido\": str})"
   ]
  },
  {
   "cell_type": "code",
   "execution_count": null,
   "metadata": {},
   "outputs": [],
   "source": [
    "#Función de generación de números aleatorios\n",
    "def unico(x,L):\n",
    "  esUnico=True\n",
    "  for i in range(len(L)):\n",
    "    if x==L[i]:\n",
    "      esUnico=False\n",
    "      break\n",
    "  return esUnico\n",
    "L=[]\n",
    "j=0\n",
    "while j<100:\n",
    "  x=random.randint(1,7855)\n",
    "  if unico(x,L):\n",
    "    L.append(x)\n",
    "    j+=1\n",
    "print(L)\n",
    "L.sort()"
   ]
  },
  {
   "cell_type": "code",
   "execution_count": null,
   "metadata": {},
   "outputs": [],
   "source": [
    "#Variable referenciada a las posiciones de número aleatorios en el Data Frame de apellidos\n",
    "x = df.iloc[L]"
   ]
  },
  {
   "cell_type": "code",
   "execution_count": null,
   "metadata": {},
   "outputs": [],
   "source": [
    "#Data Frame de apellidos\n",
    "print(x)"
   ]
  },
  {
   "cell_type": "code",
   "execution_count": null,
   "metadata": {},
   "outputs": [],
   "source": [
    "#Tamaño de Data Frame\n",
    "print(len(x))"
   ]
  },
  {
   "cell_type": "code",
   "execution_count": null,
   "metadata": {},
   "outputs": [],
   "source": [
    "#Tipo de variable\n",
    "print(type(x))"
   ]
  },
  {
   "cell_type": "code",
   "execution_count": null,
   "metadata": {},
   "outputs": [],
   "source": [
    "#Creación de documento excel para trabajo de datos\n",
    "x.to_excel('documento.xlsx', index = None, header=None, encoding=str)"
   ]
  }
 ],
 "metadata": {
  "kernelspec": {
   "display_name": "Python 3",
   "language": "python",
   "name": "python3"
  },
  "language_info": {
   "codemirror_mode": {
    "name": "ipython",
    "version": 3
   },
   "file_extension": ".py",
   "mimetype": "text/x-python",
   "name": "python",
   "nbconvert_exporter": "python",
   "pygments_lexer": "ipython3",
   "version": "3.7.4"
  }
 },
 "nbformat": 4,
 "nbformat_minor": 2
}
